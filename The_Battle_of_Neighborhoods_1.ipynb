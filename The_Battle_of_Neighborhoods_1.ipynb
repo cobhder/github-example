{
 "cells": [
  {
   "cell_type": "markdown",
   "metadata": {},
   "source": [
    "# Introduction/Business Problem"
   ]
  },
  {
   "cell_type": "code",
   "execution_count": 4,
   "metadata": {},
   "outputs": [],
   "source": [
    "# As more and more people are considering immigration to other countries\n",
    "# this project would wish to give suggestions to whom would try to start their business in other countries\n",
    "# in order to immigrate \n",
    "# So,\n",
    "# lets see which place in New York would be recommended to start business"
   ]
  },
  {
   "cell_type": "markdown",
   "metadata": {},
   "source": [
    "# Data "
   ]
  },
  {
   "cell_type": "code",
   "execution_count": 3,
   "metadata": {},
   "outputs": [
    {
     "name": "stdout",
     "output_type": "stream",
     "text": [
      "Collecting package metadata (repodata.json): done\n",
      "Solving environment: \\ \n",
      "Warning: 4 possible package resolutions (only showing differing packages):\n",
      "  - anaconda/osx-64::ca-certificates-2018.03.07-0, anaconda/osx-64::openssl-1.0.2o-h26aff7b_0\n",
      "  - anaconda/osx-64::ca-certificates-2018.03.07-0, defaults/osx-64::openssl-1.0.2o-h26aff7b_0\n",
      "  - anaconda/osx-64::openssl-1.0.2o-h26aff7b_0, defaults/osx-64::ca-certificates-2018.03.07-0\n",
      "  - defaults/osx-64::ca-certificates-2018.03.07-0, defaults/osx-64::openssl-1.0.2o-h26aff7bdone\n",
      "\n",
      "# All requested packages already installed.\n",
      "\n",
      "Collecting package metadata (repodata.json): done\n",
      "Solving environment: / \n",
      "Warning: 4 possible package resolutions (only showing differing packages):\n",
      "  - anaconda/osx-64::ca-certificates-2018.03.07-0, anaconda/osx-64::openssl-1.0.2o-h26aff7b_0\n",
      "  - anaconda/osx-64::ca-certificates-2018.03.07-0, defaults/osx-64::openssl-1.0.2o-h26aff7b_0\n",
      "  - anaconda/osx-64::openssl-1.0.2o-h26aff7b_0, defaults/osx-64::ca-certificates-2018.03.07-0\n",
      "  - defaults/osx-64::ca-certificates-2018.03.07-0, defaults/osx-64::openssl-1.0.2o-h26aff7bdone\n",
      "\n",
      "# All requested packages already installed.\n",
      "\n",
      "Folium installed\n",
      "Libraries imported.\n"
     ]
    }
   ],
   "source": [
    "import requests # library to handle requests\n",
    "import pandas as pd # library for data analsysis\n",
    "import numpy as np # library to handle data in a vectorized manner\n",
    "import random # library for random number generation\n",
    "\n",
    "!conda install -c conda-forge geopy --yes \n",
    "from geopy.geocoders import Nominatim # module to convert an address into latitude and longitude values\n",
    "\n",
    "# libraries for displaying images\n",
    "from IPython.display import Image \n",
    "from IPython.core.display import HTML \n",
    "    \n",
    "# tranforming json file into a pandas dataframe library\n",
    "from pandas.io.json import json_normalize\n",
    "\n",
    "!conda install -c conda-forge folium=0.5.0 --yes\n",
    "import folium # plotting library\n",
    "\n",
    "print('Folium installed')\n",
    "print('Libraries imported.')"
   ]
  },
  {
   "cell_type": "code",
   "execution_count": 20,
   "metadata": {},
   "outputs": [
    {
     "name": "stdout",
     "output_type": "stream",
     "text": [
      "Your credentails:\n",
      "CLIENT_ID: 320KARHINECZ0UGN4DLW01ZC1PCQX0FLJWH222UHX4DQRACT\n",
      "CLIENT_SECRET:IXGI2KILN3LYRO4HDIU2FCRYKTCBKLESRNPSXYUBDRFIASAW\n"
     ]
    }
   ],
   "source": [
    "CLIENT_ID = '320KARHINECZ0UGN4DLW01ZC1PCQX0FLJWH222UHX4DQRACT' # your Foursquare ID\n",
    "CLIENT_SECRET = 'IXGI2KILN3LYRO4HDIU2FCRYKTCBKLESRNPSXYUBDRFIASAW' # your Foursquare Secret\n",
    "VERSION = '20180604'\n",
    "LIMIT = 50\n",
    "print('Your credentails:')\n",
    "print('CLIENT_ID: ' + CLIENT_ID)\n",
    "print('CLIENT_SECRET:' + CLIENT_SECRET)"
   ]
  },
  {
   "cell_type": "code",
   "execution_count": 21,
   "metadata": {},
   "outputs": [
    {
     "name": "stdout",
     "output_type": "stream",
     "text": [
      "40.7127281 -74.0060152\n"
     ]
    }
   ],
   "source": [
    "address = 'New York, NY'\n",
    "\n",
    "geolocator = Nominatim(user_agent=\"foursquare_agent\")\n",
    "location = geolocator.geocode(address)\n",
    "latitude = location.latitude\n",
    "longitude = location.longitude\n",
    "print(latitude, longitude)"
   ]
  },
  {
   "cell_type": "code",
   "execution_count": 22,
   "metadata": {},
   "outputs": [],
   "source": [
    "latitude = 40.7127281\n",
    "longitude = -74.0060152\n",
    "radius = 500"
   ]
  },
  {
   "cell_type": "code",
   "execution_count": 23,
   "metadata": {},
   "outputs": [
    {
     "data": {
      "text/plain": [
       "'https://api.foursquare.com/v2/venues/explore?client_id=320KARHINECZ0UGN4DLW01ZC1PCQX0FLJWH222UHX4DQRACT&client_secret=IXGI2KILN3LYRO4HDIU2FCRYKTCBKLESRNPSXYUBDRFIASAW&ll=40.7127281,-74.0060152&v=20180604&radius=500&limit=50'"
      ]
     },
     "execution_count": 23,
     "metadata": {},
     "output_type": "execute_result"
    }
   ],
   "source": [
    "url = 'https://api.foursquare.com/v2/venues/explore?client_id={}&client_secret={}&ll={},{}&v={}&radius={}&limit={}'.format(CLIENT_ID, CLIENT_SECRET, latitude, longitude, VERSION, radius, LIMIT)\n",
    "url"
   ]
  },
  {
   "cell_type": "code",
   "execution_count": 24,
   "metadata": {},
   "outputs": [],
   "source": [
    "import requests"
   ]
  },
  {
   "cell_type": "code",
   "execution_count": 25,
   "metadata": {},
   "outputs": [
    {
     "data": {
      "text/plain": [
       "'There are 50 around NY.'"
      ]
     },
     "execution_count": 25,
     "metadata": {},
     "output_type": "execute_result"
    }
   ],
   "source": [
    "results = requests.get(url).json()\n",
    "'There are {} around NY.'.format(len(results['response']['groups'][0]['items']))"
   ]
  },
  {
   "cell_type": "code",
   "execution_count": 26,
   "metadata": {
    "scrolled": true
   },
   "outputs": [
    {
     "data": {
      "text/plain": [
       "{'reasons': {'count': 0,\n",
       "  'items': [{'summary': 'This spot is popular',\n",
       "    'type': 'general',\n",
       "    'reasonName': 'globalInteractionReason'}]},\n",
       " 'venue': {'id': '57f0689d498e7d49d9189369',\n",
       "  'name': 'The Bar Room at Temple Court',\n",
       "  'location': {'address': '123 Nassau St',\n",
       "   'lat': 40.7114477287544,\n",
       "   'lng': -74.00680157032005,\n",
       "   'labeledLatLngs': [{'label': 'display',\n",
       "     'lat': 40.7114477287544,\n",
       "     'lng': -74.00680157032005}],\n",
       "   'distance': 157,\n",
       "   'postalCode': '10038',\n",
       "   'cc': 'US',\n",
       "   'neighborhood': 'Financial District',\n",
       "   'city': 'New York',\n",
       "   'state': 'NY',\n",
       "   'country': 'United States',\n",
       "   'formattedAddress': ['123 Nassau St',\n",
       "    'New York, NY 10038',\n",
       "    'United States']},\n",
       "  'categories': [{'id': '4bf58dd8d48988d1d5941735',\n",
       "    'name': 'Hotel Bar',\n",
       "    'pluralName': 'Hotel Bars',\n",
       "    'shortName': 'Hotel Bar',\n",
       "    'icon': {'prefix': 'https://ss3.4sqi.net/img/categories_v2/travel/hotel_bar_',\n",
       "     'suffix': '.png'},\n",
       "    'primary': True}],\n",
       "  'photos': {'count': 0, 'groups': []}},\n",
       " 'referralId': 'e-0-57f0689d498e7d49d9189369-0'}"
      ]
     },
     "execution_count": 26,
     "metadata": {},
     "output_type": "execute_result"
    }
   ],
   "source": [
    "items = results['response']['groups'][0]['items']\n",
    "items[0]"
   ]
  },
  {
   "cell_type": "code",
   "execution_count": 27,
   "metadata": {},
   "outputs": [],
   "source": [
    "def get_category_type(row):\n",
    "    try:\n",
    "        categories_list = row['categories']\n",
    "    except:\n",
    "        categories_list = row['venue.categories']\n",
    "        \n",
    "    if len(categories_list) == 0:\n",
    "        return None\n",
    "    else:\n",
    "        return categories_list[0]['name']"
   ]
  },
  {
   "cell_type": "code",
   "execution_count": 28,
   "metadata": {},
   "outputs": [
    {
     "name": "stderr",
     "output_type": "stream",
     "text": [
      "/Users/qqho/anaconda3/lib/python3.6/site-packages/ipykernel_launcher.py:1: FutureWarning: pandas.io.json.json_normalize is deprecated, use pandas.json_normalize instead\n",
      "  \"\"\"Entry point for launching an IPython kernel.\n"
     ]
    },
    {
     "data": {
      "text/html": [
       "<div>\n",
       "<style scoped>\n",
       "    .dataframe tbody tr th:only-of-type {\n",
       "        vertical-align: middle;\n",
       "    }\n",
       "\n",
       "    .dataframe tbody tr th {\n",
       "        vertical-align: top;\n",
       "    }\n",
       "\n",
       "    .dataframe thead th {\n",
       "        text-align: right;\n",
       "    }\n",
       "</style>\n",
       "<table border=\"1\" class=\"dataframe\">\n",
       "  <thead>\n",
       "    <tr style=\"text-align: right;\">\n",
       "      <th></th>\n",
       "      <th>name</th>\n",
       "      <th>categories</th>\n",
       "      <th>address</th>\n",
       "      <th>lat</th>\n",
       "      <th>lng</th>\n",
       "      <th>labeledLatLngs</th>\n",
       "      <th>distance</th>\n",
       "      <th>postalCode</th>\n",
       "      <th>cc</th>\n",
       "      <th>neighborhood</th>\n",
       "      <th>city</th>\n",
       "      <th>state</th>\n",
       "      <th>country</th>\n",
       "      <th>formattedAddress</th>\n",
       "      <th>crossStreet</th>\n",
       "      <th>id</th>\n",
       "    </tr>\n",
       "  </thead>\n",
       "  <tbody>\n",
       "    <tr>\n",
       "      <th>0</th>\n",
       "      <td>The Bar Room at Temple Court</td>\n",
       "      <td>Hotel Bar</td>\n",
       "      <td>123 Nassau St</td>\n",
       "      <td>40.711448</td>\n",
       "      <td>-74.006802</td>\n",
       "      <td>[{'label': 'display', 'lat': 40.7114477287544,...</td>\n",
       "      <td>157</td>\n",
       "      <td>10038</td>\n",
       "      <td>US</td>\n",
       "      <td>Financial District</td>\n",
       "      <td>New York</td>\n",
       "      <td>NY</td>\n",
       "      <td>United States</td>\n",
       "      <td>[123 Nassau St, New York, NY 10038, United Sta...</td>\n",
       "      <td>NaN</td>\n",
       "      <td>57f0689d498e7d49d9189369</td>\n",
       "    </tr>\n",
       "    <tr>\n",
       "      <th>1</th>\n",
       "      <td>The Beekman, A Thompson Hotel</td>\n",
       "      <td>Hotel</td>\n",
       "      <td>123 Nassau St</td>\n",
       "      <td>40.711173</td>\n",
       "      <td>-74.006702</td>\n",
       "      <td>[{'label': 'display', 'lat': 40.7111725, 'lng'...</td>\n",
       "      <td>182</td>\n",
       "      <td>10038</td>\n",
       "      <td>US</td>\n",
       "      <td>NaN</td>\n",
       "      <td>New York</td>\n",
       "      <td>NY</td>\n",
       "      <td>United States</td>\n",
       "      <td>[123 Nassau St (Beekman St), New York, NY 1003...</td>\n",
       "      <td>Beekman St</td>\n",
       "      <td>56d8c0f8498edb854f926e6a</td>\n",
       "    </tr>\n",
       "    <tr>\n",
       "      <th>2</th>\n",
       "      <td>Alba Dry Cleaner &amp; Tailor</td>\n",
       "      <td>Laundry Service</td>\n",
       "      <td>140 Nassau St</td>\n",
       "      <td>40.711434</td>\n",
       "      <td>-74.006272</td>\n",
       "      <td>[{'label': 'display', 'lat': 40.71143355866638...</td>\n",
       "      <td>145</td>\n",
       "      <td>10038</td>\n",
       "      <td>US</td>\n",
       "      <td>NaN</td>\n",
       "      <td>New York</td>\n",
       "      <td>NY</td>\n",
       "      <td>United States</td>\n",
       "      <td>[140 Nassau St (Beekman and Spruce st), New Yo...</td>\n",
       "      <td>Beekman and Spruce st</td>\n",
       "      <td>4c606c3e1e5cd13ad1a1a1ed</td>\n",
       "    </tr>\n",
       "    <tr>\n",
       "      <th>3</th>\n",
       "      <td>City Hall Park</td>\n",
       "      <td>Park</td>\n",
       "      <td>17 Park Row</td>\n",
       "      <td>40.712415</td>\n",
       "      <td>-74.006724</td>\n",
       "      <td>NaN</td>\n",
       "      <td>69</td>\n",
       "      <td>10038</td>\n",
       "      <td>US</td>\n",
       "      <td>NaN</td>\n",
       "      <td>New York</td>\n",
       "      <td>NY</td>\n",
       "      <td>United States</td>\n",
       "      <td>[17 Park Row (btwn Broadway &amp; Centre St), New ...</td>\n",
       "      <td>btwn Broadway &amp; Centre St</td>\n",
       "      <td>3fd66200f964a520d8f11ee3</td>\n",
       "    </tr>\n",
       "    <tr>\n",
       "      <th>4</th>\n",
       "      <td>Augustine</td>\n",
       "      <td>French Restaurant</td>\n",
       "      <td>5 Beekman St</td>\n",
       "      <td>40.711310</td>\n",
       "      <td>-74.006660</td>\n",
       "      <td>[{'label': 'display', 'lat': 40.71130993467075...</td>\n",
       "      <td>166</td>\n",
       "      <td>10038</td>\n",
       "      <td>US</td>\n",
       "      <td>NaN</td>\n",
       "      <td>New York</td>\n",
       "      <td>NY</td>\n",
       "      <td>United States</td>\n",
       "      <td>[5 Beekman St, New York, NY 10038, United States]</td>\n",
       "      <td>NaN</td>\n",
       "      <td>58191674ded8f8626ed70af0</td>\n",
       "    </tr>\n",
       "    <tr>\n",
       "      <th>5</th>\n",
       "      <td>The Wooly Daily</td>\n",
       "      <td>Coffee Shop</td>\n",
       "      <td>11 Barclay St</td>\n",
       "      <td>40.712137</td>\n",
       "      <td>-74.008395</td>\n",
       "      <td>[{'label': 'display', 'lat': 40.71213724343698...</td>\n",
       "      <td>211</td>\n",
       "      <td>10007</td>\n",
       "      <td>US</td>\n",
       "      <td>NaN</td>\n",
       "      <td>New York</td>\n",
       "      <td>NY</td>\n",
       "      <td>United States</td>\n",
       "      <td>[11 Barclay St (Broadway), New York, NY 10007,...</td>\n",
       "      <td>Broadway</td>\n",
       "      <td>56093809498e5344ab8835a6</td>\n",
       "    </tr>\n",
       "    <tr>\n",
       "      <th>6</th>\n",
       "      <td>The Class by Taryn Toomey</td>\n",
       "      <td>Gym / Fitness Center</td>\n",
       "      <td>22 Park Pl</td>\n",
       "      <td>40.712753</td>\n",
       "      <td>-74.008734</td>\n",
       "      <td>[{'label': 'display', 'lat': 40.71275251771485...</td>\n",
       "      <td>229</td>\n",
       "      <td>10007</td>\n",
       "      <td>US</td>\n",
       "      <td>NaN</td>\n",
       "      <td>New York</td>\n",
       "      <td>NY</td>\n",
       "      <td>United States</td>\n",
       "      <td>[22 Park Pl, New York, NY 10007, United States]</td>\n",
       "      <td>NaN</td>\n",
       "      <td>58a253c830ecc66c9e5b40a0</td>\n",
       "    </tr>\n",
       "    <tr>\n",
       "      <th>7</th>\n",
       "      <td>Gibney Dance Center Downtown</td>\n",
       "      <td>Dance Studio</td>\n",
       "      <td>280 Broadway</td>\n",
       "      <td>40.713923</td>\n",
       "      <td>-74.005661</td>\n",
       "      <td>[{'label': 'display', 'lat': 40.71392316324669...</td>\n",
       "      <td>136</td>\n",
       "      <td>10007</td>\n",
       "      <td>US</td>\n",
       "      <td>NaN</td>\n",
       "      <td>New York</td>\n",
       "      <td>NY</td>\n",
       "      <td>United States</td>\n",
       "      <td>[280 Broadway (Chambers St), New York, NY 1000...</td>\n",
       "      <td>Chambers St</td>\n",
       "      <td>53373f26498e940581c90985</td>\n",
       "    </tr>\n",
       "    <tr>\n",
       "      <th>8</th>\n",
       "      <td>CrossFit 212 TriBeCa</td>\n",
       "      <td>Gym</td>\n",
       "      <td>281 Broadway</td>\n",
       "      <td>40.714537</td>\n",
       "      <td>-74.005999</td>\n",
       "      <td>[{'label': 'display', 'lat': 40.71453743117048...</td>\n",
       "      <td>201</td>\n",
       "      <td>10007</td>\n",
       "      <td>US</td>\n",
       "      <td>NaN</td>\n",
       "      <td>New York</td>\n",
       "      <td>NY</td>\n",
       "      <td>United States</td>\n",
       "      <td>[281 Broadway, New York, NY 10007, United States]</td>\n",
       "      <td>NaN</td>\n",
       "      <td>52001eed498e9ac16ca5e20b</td>\n",
       "    </tr>\n",
       "    <tr>\n",
       "      <th>9</th>\n",
       "      <td>Takahachi Bakery</td>\n",
       "      <td>Bakery</td>\n",
       "      <td>25 Murray St</td>\n",
       "      <td>40.713653</td>\n",
       "      <td>-74.008804</td>\n",
       "      <td>[{'label': 'display', 'lat': 40.71365284530189...</td>\n",
       "      <td>256</td>\n",
       "      <td>10007</td>\n",
       "      <td>US</td>\n",
       "      <td>NaN</td>\n",
       "      <td>New York</td>\n",
       "      <td>NY</td>\n",
       "      <td>United States</td>\n",
       "      <td>[25 Murray St (at Church St), New York, NY 100...</td>\n",
       "      <td>at Church St</td>\n",
       "      <td>4c154c9a77cea593c401d260</td>\n",
       "    </tr>\n",
       "  </tbody>\n",
       "</table>\n",
       "</div>"
      ],
      "text/plain": [
       "                            name            categories        address  \\\n",
       "0   The Bar Room at Temple Court             Hotel Bar  123 Nassau St   \n",
       "1  The Beekman, A Thompson Hotel                 Hotel  123 Nassau St   \n",
       "2      Alba Dry Cleaner & Tailor       Laundry Service  140 Nassau St   \n",
       "3                 City Hall Park                  Park    17 Park Row   \n",
       "4                      Augustine     French Restaurant   5 Beekman St   \n",
       "5                The Wooly Daily           Coffee Shop  11 Barclay St   \n",
       "6      The Class by Taryn Toomey  Gym / Fitness Center     22 Park Pl   \n",
       "7   Gibney Dance Center Downtown          Dance Studio   280 Broadway   \n",
       "8           CrossFit 212 TriBeCa                   Gym   281 Broadway   \n",
       "9               Takahachi Bakery                Bakery   25 Murray St   \n",
       "\n",
       "         lat        lng                                     labeledLatLngs  \\\n",
       "0  40.711448 -74.006802  [{'label': 'display', 'lat': 40.7114477287544,...   \n",
       "1  40.711173 -74.006702  [{'label': 'display', 'lat': 40.7111725, 'lng'...   \n",
       "2  40.711434 -74.006272  [{'label': 'display', 'lat': 40.71143355866638...   \n",
       "3  40.712415 -74.006724                                                NaN   \n",
       "4  40.711310 -74.006660  [{'label': 'display', 'lat': 40.71130993467075...   \n",
       "5  40.712137 -74.008395  [{'label': 'display', 'lat': 40.71213724343698...   \n",
       "6  40.712753 -74.008734  [{'label': 'display', 'lat': 40.71275251771485...   \n",
       "7  40.713923 -74.005661  [{'label': 'display', 'lat': 40.71392316324669...   \n",
       "8  40.714537 -74.005999  [{'label': 'display', 'lat': 40.71453743117048...   \n",
       "9  40.713653 -74.008804  [{'label': 'display', 'lat': 40.71365284530189...   \n",
       "\n",
       "   distance postalCode  cc        neighborhood      city state        country  \\\n",
       "0       157      10038  US  Financial District  New York    NY  United States   \n",
       "1       182      10038  US                 NaN  New York    NY  United States   \n",
       "2       145      10038  US                 NaN  New York    NY  United States   \n",
       "3        69      10038  US                 NaN  New York    NY  United States   \n",
       "4       166      10038  US                 NaN  New York    NY  United States   \n",
       "5       211      10007  US                 NaN  New York    NY  United States   \n",
       "6       229      10007  US                 NaN  New York    NY  United States   \n",
       "7       136      10007  US                 NaN  New York    NY  United States   \n",
       "8       201      10007  US                 NaN  New York    NY  United States   \n",
       "9       256      10007  US                 NaN  New York    NY  United States   \n",
       "\n",
       "                                    formattedAddress  \\\n",
       "0  [123 Nassau St, New York, NY 10038, United Sta...   \n",
       "1  [123 Nassau St (Beekman St), New York, NY 1003...   \n",
       "2  [140 Nassau St (Beekman and Spruce st), New Yo...   \n",
       "3  [17 Park Row (btwn Broadway & Centre St), New ...   \n",
       "4  [5 Beekman St, New York, NY 10038, United States]   \n",
       "5  [11 Barclay St (Broadway), New York, NY 10007,...   \n",
       "6    [22 Park Pl, New York, NY 10007, United States]   \n",
       "7  [280 Broadway (Chambers St), New York, NY 1000...   \n",
       "8  [281 Broadway, New York, NY 10007, United States]   \n",
       "9  [25 Murray St (at Church St), New York, NY 100...   \n",
       "\n",
       "                 crossStreet                        id  \n",
       "0                        NaN  57f0689d498e7d49d9189369  \n",
       "1                 Beekman St  56d8c0f8498edb854f926e6a  \n",
       "2      Beekman and Spruce st  4c606c3e1e5cd13ad1a1a1ed  \n",
       "3  btwn Broadway & Centre St  3fd66200f964a520d8f11ee3  \n",
       "4                        NaN  58191674ded8f8626ed70af0  \n",
       "5                   Broadway  56093809498e5344ab8835a6  \n",
       "6                        NaN  58a253c830ecc66c9e5b40a0  \n",
       "7                Chambers St  53373f26498e940581c90985  \n",
       "8                        NaN  52001eed498e9ac16ca5e20b  \n",
       "9               at Church St  4c154c9a77cea593c401d260  "
      ]
     },
     "execution_count": 28,
     "metadata": {},
     "output_type": "execute_result"
    }
   ],
   "source": [
    "dataframe = json_normalize(items) # flatten JSON\n",
    "\n",
    "# filter columns\n",
    "filtered_columns = ['venue.name', 'venue.categories'] + [col for col in dataframe.columns if col.startswith('venue.location.')] + ['venue.id']\n",
    "dataframe_filtered = dataframe.loc[:, filtered_columns]\n",
    "\n",
    "# filter the category for each row\n",
    "dataframe_filtered['venue.categories'] = dataframe_filtered.apply(get_category_type, axis=1)\n",
    "\n",
    "# clean columns\n",
    "dataframe_filtered.columns = [col.split('.')[-1] for col in dataframe_filtered.columns]\n",
    "\n",
    "dataframe_filtered.head(10)"
   ]
  },
  {
   "cell_type": "code",
   "execution_count": null,
   "metadata": {},
   "outputs": [],
   "source": []
  }
 ],
 "metadata": {
  "kernelspec": {
   "display_name": "Python 3",
   "language": "python",
   "name": "python3"
  },
  "language_info": {
   "codemirror_mode": {
    "name": "ipython",
    "version": 3
   },
   "file_extension": ".py",
   "mimetype": "text/x-python",
   "name": "python",
   "nbconvert_exporter": "python",
   "pygments_lexer": "ipython3",
   "version": "3.6.5"
  }
 },
 "nbformat": 4,
 "nbformat_minor": 2
}
